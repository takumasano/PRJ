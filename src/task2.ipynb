{
 "cells": [
  {
   "cell_type": "code",
   "execution_count": 2,
   "metadata": {},
   "outputs": [
    {
     "name": "stdout",
     "output_type": "stream",
     "text": [
      "Collecting numpy\n",
      "  Downloading numpy-1.24.4-cp38-cp38-macosx_11_0_arm64.whl.metadata (5.6 kB)\n",
      "Downloading numpy-1.24.4-cp38-cp38-macosx_11_0_arm64.whl (13.8 MB)\n",
      "\u001b[2K   \u001b[90m━━━━━━━━━━━━━━━━━━━━━━━━━━━━━━━━━━━━━━━━\u001b[0m \u001b[32m13.8/13.8 MB\u001b[0m \u001b[31m1.7 MB/s\u001b[0m eta \u001b[36m0:00:00\u001b[0m00:01\u001b[0m00:01\u001b[0m\n",
      "\u001b[?25hInstalling collected packages: numpy\n",
      "Successfully installed numpy-1.24.4\n",
      "Note: you may need to restart the kernel to use updated packages.\n"
     ]
    }
   ],
   "source": [
    "pip install numpy"
   ]
  },
  {
   "cell_type": "code",
   "execution_count": 5,
   "metadata": {},
   "outputs": [
    {
     "name": "stdout",
     "output_type": "stream",
     "text": [
      "Collecting utils\n",
      "  Downloading utils-1.0.1-py2.py3-none-any.whl (21 kB)\n",
      "Installing collected packages: utils\n",
      "Successfully installed utils-1.0.1\n",
      "Note: you may need to restart the kernel to use updated packages.\n"
     ]
    }
   ],
   "source": [
    "pip install utils"
   ]
  },
  {
   "cell_type": "code",
   "execution_count": 6,
   "metadata": {},
   "outputs": [],
   "source": [
    "import numpy as np\n",
    "import pandas as pd\n",
    "import matplotlib.pyplot as plt\n",
    "from matplotlib import animation\n",
    "import utils"
   ]
  },
  {
   "cell_type": "code",
   "execution_count": 12,
   "metadata": {},
   "outputs": [],
   "source": [
    "class ExpInfo:\n",
    "    bad_subj = ['K-Reg-H-1', 'K-Reg-H-2', 'K-Reg-S-5']\n",
    "    taskName = ['one_dot', 'three_dot', 'reaching']\n",
    "    traj_columns_motor = [\"x-shift\", \"y-shift\"]\n",
    "    traj_columns_disp = [['dot-x', 'dot-y'],\n",
    "                         ['dot-x1', 'dot-y1', 'dot-x2',\n",
    "                             'dot-y2', 'dot-x3', 'dot-y3'],\n",
    "                         ['dot-x', 'dot-y']]\n",
    "    screenSize = np.array((1900, 1060))"
   ]
  },
  {
   "cell_type": "code",
   "execution_count": 15,
   "metadata": {},
   "outputs": [
    {
     "ename": "SyntaxError",
     "evalue": "invalid syntax (2689302108.py, line 1)",
     "output_type": "error",
     "traceback": [
      "\u001b[0;36m  Cell \u001b[0;32mIn[15], line 1\u001b[0;36m\u001b[0m\n\u001b[0;31m    import ExpInfo from utils\u001b[0m\n\u001b[0m                   ^\u001b[0m\n\u001b[0;31mSyntaxError\u001b[0m\u001b[0;31m:\u001b[0m invalid syntax\n"
     ]
    }
   ],
   "source": [
    "subjs = utils.ExpInfo.getSubjIDs()[0:20]\n",
    "tasks = utils.ExpInfo.taskName[0:2]\n",
    "nTrial = 3\n",
    "\n",
    "fig, ax = plt.subplots(len(subjs), nTrial*len(tasks), figsize=(nTrial*5*len(tasks), len(subjs)*5))\n",
    "\n",
    "for iSubj, subj in enumerate(subjs):\n",
    "    for iTask, task in enumerate(tasks):        \n",
    "        df_beh = utils.LoadData.behaviorData(subj, task)\n",
    "        df_beh_noiseFree = df_beh.query('`actual control`==0.8 and `angular bias`==0')\n",
    "        for iTrial in range(nTrial):\n",
    "            df = utils.LoadData.mouseMovement(subj, task, df_beh_noiseFree['trial no.'].iloc[iTrial])\n",
    "            x = df['x-shift'].values.cumsum()\n",
    "            y = df['y-shift'].values.cumsum()\n",
    "            iax =  ax[iSubj, iTrial+iTask*nTrial]\n",
    "            utils.Plot.traj_withColour(x, y, fig, iax)\n",
    "            iax.set_title('subj: {}, task: {}, trial: {}'.format(iSubj, task, iTrial))\n",
    "                        \n",
    "        # for i, trialno in enumerate(df_beh_noiseFree['trial no.'].values):\n",
    "        #     df = utils.LoadData.mouseMovement(subj, task, trialno)\n",
    "        #     x = df['x-shift'].values.cumsum()\n",
    "        #     y = df['y-shift'].values.cumsum()\n",
    "        #     utils.Plot.traj_withColour(x, y, fig, ax[i])"
   ]
  }
 ],
 "metadata": {
  "kernelspec": {
   "display_name": "VSenv",
   "language": "python",
   "name": "python3"
  },
  "language_info": {
   "codemirror_mode": {
    "name": "ipython",
    "version": 3
   },
   "file_extension": ".py",
   "mimetype": "text/x-python",
   "name": "python",
   "nbconvert_exporter": "python",
   "pygments_lexer": "ipython3",
   "version": "3.8.18"
  }
 },
 "nbformat": 4,
 "nbformat_minor": 2
}
