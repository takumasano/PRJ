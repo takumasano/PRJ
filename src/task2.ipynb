{
 "cells": [
  {
   "cell_type": "code",
   "execution_count": 2,
   "metadata": {},
   "outputs": [
    {
     "name": "stdout",
     "output_type": "stream",
     "text": [
      "Collecting numpy\n",
      "  Downloading numpy-1.24.4-cp38-cp38-macosx_11_0_arm64.whl.metadata (5.6 kB)\n",
      "Downloading numpy-1.24.4-cp38-cp38-macosx_11_0_arm64.whl (13.8 MB)\n",
      "\u001b[2K   \u001b[90m━━━━━━━━━━━━━━━━━━━━━━━━━━━━━━━━━━━━━━━━\u001b[0m \u001b[32m13.8/13.8 MB\u001b[0m \u001b[31m1.7 MB/s\u001b[0m eta \u001b[36m0:00:00\u001b[0m00:01\u001b[0m00:01\u001b[0m\n",
      "\u001b[?25hInstalling collected packages: numpy\n",
      "Successfully installed numpy-1.24.4\n",
      "Note: you may need to restart the kernel to use updated packages.\n"
     ]
    }
   ],
   "source": [
    "pip install numpy"
   ]
  },
  {
   "cell_type": "code",
   "execution_count": 5,
   "metadata": {},
   "outputs": [
    {
     "name": "stdout",
     "output_type": "stream",
     "text": [
      "Collecting utils\n",
      "  Downloading utils-1.0.1-py2.py3-none-any.whl (21 kB)\n",
      "Installing collected packages: utils\n",
      "Successfully installed utils-1.0.1\n",
      "Note: you may need to restart the kernel to use updated packages.\n"
     ]
    }
   ],
   "source": [
    "pip install utils"
   ]
  },
  {
   "cell_type": "code",
   "execution_count": 3,
   "metadata": {},
   "outputs": [
    {
     "ename": "ModuleNotFoundError",
     "evalue": "No module named 'einops'",
     "output_type": "error",
     "traceback": [
      "\u001b[0;31m---------------------------------------------------------------------------\u001b[0m",
      "\u001b[0;31mModuleNotFoundError\u001b[0m                       Traceback (most recent call last)",
      "\u001b[1;32m/Users/tstakuma/Desktop/anaconda/PRJ/src/task2.ipynb セル 3\u001b[0m line \u001b[0;36m5\n\u001b[1;32m      <a href='vscode-notebook-cell:/Users/tstakuma/Desktop/anaconda/PRJ/src/task2.ipynb#W3sZmlsZQ%3D%3D?line=2'>3</a>\u001b[0m \u001b[39mimport\u001b[39;00m \u001b[39mmatplotlib\u001b[39;00m\u001b[39m.\u001b[39;00m\u001b[39mpyplot\u001b[39;00m \u001b[39mas\u001b[39;00m \u001b[39mplt\u001b[39;00m\n\u001b[1;32m      <a href='vscode-notebook-cell:/Users/tstakuma/Desktop/anaconda/PRJ/src/task2.ipynb#W3sZmlsZQ%3D%3D?line=3'>4</a>\u001b[0m \u001b[39mfrom\u001b[39;00m \u001b[39mmatplotlib\u001b[39;00m \u001b[39mimport\u001b[39;00m animation\n\u001b[0;32m----> <a href='vscode-notebook-cell:/Users/tstakuma/Desktop/anaconda/PRJ/src/task2.ipynb#W3sZmlsZQ%3D%3D?line=4'>5</a>\u001b[0m \u001b[39mimport\u001b[39;00m \u001b[39mutils\u001b[39;00m\n\u001b[1;32m      <a href='vscode-notebook-cell:/Users/tstakuma/Desktop/anaconda/PRJ/src/task2.ipynb#W3sZmlsZQ%3D%3D?line=6'>7</a>\u001b[0m \u001b[39mclass\u001b[39;00m \u001b[39mExpInfo\u001b[39;00m:\n\u001b[1;32m      <a href='vscode-notebook-cell:/Users/tstakuma/Desktop/anaconda/PRJ/src/task2.ipynb#W3sZmlsZQ%3D%3D?line=7'>8</a>\u001b[0m     bad_subj \u001b[39m=\u001b[39m [\u001b[39m'\u001b[39m\u001b[39mK-Reg-H-1\u001b[39m\u001b[39m'\u001b[39m, \u001b[39m'\u001b[39m\u001b[39mK-Reg-H-2\u001b[39m\u001b[39m'\u001b[39m, \u001b[39m'\u001b[39m\u001b[39mK-Reg-S-5\u001b[39m\u001b[39m'\u001b[39m]\n",
      "File \u001b[0;32m~/Desktop/anaconda/PRJ/src/utils.py:11\u001b[0m\n\u001b[1;32m      9\u001b[0m \u001b[39mimport\u001b[39;00m \u001b[39mPIL\u001b[39;00m\n\u001b[1;32m     10\u001b[0m \u001b[39mimport\u001b[39;00m \u001b[39mtorch\u001b[39;00m\n\u001b[0;32m---> 11\u001b[0m \u001b[39mfrom\u001b[39;00m \u001b[39meinops\u001b[39;00m \u001b[39mimport\u001b[39;00m rearrange, reduce, repeat\n\u001b[1;32m     12\u001b[0m \u001b[39mfrom\u001b[39;00m \u001b[39mtorch\u001b[39;00m\u001b[39m.\u001b[39;00m\u001b[39mutils\u001b[39;00m\u001b[39m.\u001b[39;00m\u001b[39mdata\u001b[39;00m \u001b[39mimport\u001b[39;00m TensorDataset, DataLoader\n\u001b[1;32m     13\u001b[0m \u001b[39mfrom\u001b[39;00m \u001b[39malive_progress\u001b[39;00m \u001b[39mimport\u001b[39;00m alive_bar\n",
      "\u001b[0;31mModuleNotFoundError\u001b[0m: No module named 'einops'"
     ]
    }
   ],
   "source": [
    "import numpy as np\n",
    "import pandas as pd\n",
    "import matplotlib.pyplot as plt\n",
    "from matplotlib import animation\n",
    "import utils\n",
    "\n",
    "class ExpInfo:\n",
    "    bad_subj = ['K-Reg-H-1', 'K-Reg-H-2', 'K-Reg-S-5']\n",
    "    taskName = ['one_dot', 'three_dot', 'reaching']\n",
    "    traj_columns_motor = [\"x-shift\", \"y-shift\"]\n",
    "    traj_columns_disp = [['dot-x', 'dot-y'],\n",
    "                         ['dot-x1', 'dot-y1', 'dot-x2',\n",
    "                             'dot-y2', 'dot-x3', 'dot-y3'],\n",
    "                         ['dot-x', 'dot-y']]\n",
    "    screenSize = np.array((1900, 1060))"
   ]
  },
  {
   "cell_type": "code",
   "execution_count": 6,
   "metadata": {},
   "outputs": [
    {
     "ename": "NameError",
     "evalue": "name 'utils' is not defined",
     "output_type": "error",
     "traceback": [
      "\u001b[0;31m---------------------------------------------------------------------------\u001b[0m",
      "\u001b[0;31mNameError\u001b[0m                                 Traceback (most recent call last)",
      "\u001b[1;32m/Users/tstakuma/Desktop/anaconda/PRJ/src/task2.ipynb セル 4\u001b[0m line \u001b[0;36m1\n\u001b[0;32m----> <a href='vscode-notebook-cell:/Users/tstakuma/Desktop/anaconda/PRJ/src/task2.ipynb#W5sZmlsZQ%3D%3D?line=0'>1</a>\u001b[0m subjs \u001b[39m=\u001b[39m utils\u001b[39m.\u001b[39mExpInfo\u001b[39m.\u001b[39mgetSubjIDs()[\u001b[39m0\u001b[39m:\u001b[39m20\u001b[39m]\n\u001b[1;32m      <a href='vscode-notebook-cell:/Users/tstakuma/Desktop/anaconda/PRJ/src/task2.ipynb#W5sZmlsZQ%3D%3D?line=1'>2</a>\u001b[0m tasks \u001b[39m=\u001b[39m utils\u001b[39m.\u001b[39mExpInfo\u001b[39m.\u001b[39mtaskName[\u001b[39m0\u001b[39m:\u001b[39m2\u001b[39m]\n\u001b[1;32m      <a href='vscode-notebook-cell:/Users/tstakuma/Desktop/anaconda/PRJ/src/task2.ipynb#W5sZmlsZQ%3D%3D?line=2'>3</a>\u001b[0m nTrial \u001b[39m=\u001b[39m \u001b[39m3\u001b[39m\n",
      "\u001b[0;31mNameError\u001b[0m: name 'utils' is not defined"
     ]
    }
   ],
   "source": [
    "subjs = utils.ExpInfo.getSubjIDs()[0:20]\n",
    "tasks = utils.ExpInfo.taskName[0:2]\n",
    "nTrial = 3\n",
    "\n",
    "fig, ax = plt.subplots(len(subjs), nTrial*len(tasks), figsize=(nTrial*5*len(tasks), len(subjs)*5))\n",
    "\n",
    "for iSubj, subj in enumerate(subjs):\n",
    "    for iTask, task in enumerate(tasks):        \n",
    "        df_beh = utils.LoadData.behaviorData(subj, task)\n",
    "        df_beh_noiseFree = df_beh.query('`actual control`==0.8 and `angular bias`==0')\n",
    "        for iTrial in range(nTrial):\n",
    "            df = utils.LoadData.mouseMovement(subj, task, df_beh_noiseFree['trial no.'].iloc[iTrial])\n",
    "            x = df['x-shift'].values.cumsum()\n",
    "            y = df['y-shift'].values.cumsum()\n",
    "            iax =  ax[iSubj, iTrial+iTask*nTrial]\n",
    "            utils.Plot.traj_withColour(x, y, fig, iax)\n",
    "            iax.set_title('subj: {}, task: {}, trial: {}'.format(iSubj, task, iTrial))\n",
    "plt.show()"
   ]
  }
 ],
 "metadata": {
  "kernelspec": {
   "display_name": "VSenv",
   "language": "python",
   "name": "python3"
  },
  "language_info": {
   "codemirror_mode": {
    "name": "ipython",
    "version": 3
   },
   "file_extension": ".py",
   "mimetype": "text/x-python",
   "name": "python",
   "nbconvert_exporter": "python",
   "pygments_lexer": "ipython3",
   "version": "3.8.18"
  }
 },
 "nbformat": 4,
 "nbformat_minor": 2
}
